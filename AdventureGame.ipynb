{
 "cells": [
  {
   "cell_type": "code",
   "execution_count": 5,
   "id": "a1108d44-a820-443d-9be7-d3a974179a0c",
   "metadata": {},
   "outputs": [
    {
     "name": "stdout",
     "output_type": "stream",
     "text": [
      "Welcome to the Adventure Game!\n",
      "You are standing in front of a mysterious forest.\n",
      "Do you want to ENTER the forest or WALK away?\n"
     ]
    },
    {
     "name": "stdin",
     "output_type": "stream",
     "text": [
      "Type ENTER or WALK:  enter\n"
     ]
    },
    {
     "name": "stdout",
     "output_type": "stream",
     "text": [
      "\n",
      "You enter the forest and hear strange noises.\n",
      "You see a shiny object on the ground.\n",
      "Do you PICK it up or IGNORE it?\n"
     ]
    },
    {
     "name": "stdin",
     "output_type": "stream",
     "text": [
      "Type PICK or IGNORE:  pick\n"
     ]
    },
    {
     "name": "stdout",
     "output_type": "stream",
     "text": [
      "\n",
      "You pick up the object and realize it's a magical key!\n",
      "You see a locked chest nearby.\n",
      "Do you OPEN the chest or KEEP the key?\n"
     ]
    },
    {
     "name": "stdin",
     "output_type": "stream",
     "text": [
      "Type OPEN or KEEP:  keep\n"
     ]
    },
    {
     "name": "stdout",
     "output_type": "stream",
     "text": [
      "\n",
      "You keep the key and continue exploring.\n",
      "You find a hidden passage that leads to an enchanted kingdom. Adventure awaits!\n"
     ]
    }
   ],
   "source": [
    "def start_game():\n",
    "    print(\"Welcome to the Adventure Game!\")\n",
    "    print(\"You are standing in front of a mysterious forest.\")\n",
    "    print(\"Do you want to ENTER the forest or WALK away?\")\n",
    "    choice = input(\"Type ENTER or WALK: \").strip().lower()\n",
    "    if choice == \"enter\":\n",
    "        forest_adventure()\n",
    "    elif choice == \"walk\":\n",
    "        print(\"You decided to walk away. Maybe next time!\")\n",
    "    else:\n",
    "        print(\"Invalid choice! Try again.\")\n",
    "        start_game()\n",
    "\n",
    "def forest_adventure():\n",
    "    print(\"\\nYou enter the forest and hear strange noises.\")\n",
    "    print(\"You see a shiny object on the ground.\")\n",
    "    print(\"Do you PICK it up or IGNORE it?\")\n",
    "    choice = input(\"Type PICK or IGNORE: \").strip().lower()\n",
    "    if choice == \"pick\":\n",
    "        find_treasure()\n",
    "    elif choice == \"ignore\":\n",
    "        encounter_wild_animal()\n",
    "    else:\n",
    "        print(\"Invalid choice! Try again.\")\n",
    "        forest_adventure()\n",
    "\n",
    "def find_treasure():\n",
    "    print(\"\\nYou pick up the object and realize it's a magical key!\")\n",
    "    print(\"You see a locked chest nearby.\")\n",
    "    print(\"Do you OPEN the chest or KEEP the key?\")\n",
    "    choice = input(\"Type OPEN or KEEP: \").strip().lower()\n",
    "    if choice == \"open\":\n",
    "        print(\"\\nYou open the chest and find a treasure filled with gold!\")\n",
    "        print(\"Congratulations, you're rich! 🎉\")\n",
    "    elif choice == \"keep\":\n",
    "        print(\"\\nYou keep the key and continue exploring.\")\n",
    "        print(\"You find a hidden passage that leads to an enchanted kingdom. Adventure awaits!\")\n",
    "    else:\n",
    "        print(\"Invalid choice! Try again.\")\n",
    "        find_treasure()\n",
    "\n",
    "def encounter_wild_animal():\n",
    "    print(\"\\nYou ignore the object and keep walking.\")\n",
    "    print(\"Suddenly, a wild bear appears!\")\n",
    "    print(\"Do you RUN or FIGHT?\")\n",
    "    choice = input(\"Type RUN or FIGHT: \").strip().lower()\n",
    "    if choice == \"run\":\n",
    "        print(\"\\nYou run as fast as you can and escape the bear!\")\n",
    "        print(\"Phew, that was close! You decide to head home.\")\n",
    "    elif choice == \"fight\":\n",
    "        print(\"\\nYou try to fight the bear, but it's too strong.\")\n",
    "        print(\"Unfortunately, you didn't make it. Game Over.\")\n",
    "    else:\n",
    "        print(\"Invalid choice! Try again.\")\n",
    "        encounter_wild_animal()\n",
    "\n",
    "# Start the game\n",
    "start_game()\n"
   ]
  },
  {
   "cell_type": "code",
   "execution_count": null,
   "id": "aef3dade-f911-4ef6-98af-1b71fe270883",
   "metadata": {},
   "outputs": [],
   "source": []
  }
 ],
 "metadata": {
  "kernelspec": {
   "display_name": "Python 3 (ipykernel)",
   "language": "python",
   "name": "python3"
  },
  "language_info": {
   "codemirror_mode": {
    "name": "ipython",
    "version": 3
   },
   "file_extension": ".py",
   "mimetype": "text/x-python",
   "name": "python",
   "nbconvert_exporter": "python",
   "pygments_lexer": "ipython3",
   "version": "3.11.7"
  }
 },
 "nbformat": 4,
 "nbformat_minor": 5
}
